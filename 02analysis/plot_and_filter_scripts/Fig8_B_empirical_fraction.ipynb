{
 "cells": [
  {
   "cell_type": "code",
   "execution_count": 1,
   "id": "ecfaaa22-28a6-426a-a889-bacb90e3a4be",
   "metadata": {},
   "outputs": [],
   "source": [
    "import pandas as pd\n",
    "import numpy as np\n",
    "import seaborn as sns\n",
    "import matplotlib.pyplot as plt\n",
    "import pysam\n",
    "import os\n",
    "import glob\n",
    "import hashlib\n",
    "import gzip"
   ]
  },
  {
   "cell_type": "code",
   "execution_count": 2,
   "id": "eeaf66ab-7d18-469f-88ff-9ab2dc052a1c",
   "metadata": {},
   "outputs": [],
   "source": [
    "GDN001 = \"/data/GDN001/results/assembly-evaluation-quast/genomeFractionNew.tsv\"\n",
    "EMN001 = \"/data/EMN001/results/assembly-evaluation-quast/genomeFractionNew.tsv\""
   ]
  },
  {
   "cell_type": "code",
   "execution_count": 3,
   "id": "09ffab06-0687-461b-bb3b-1f86b1f8a1b4",
   "metadata": {},
   "outputs": [],
   "source": [
    "dic1 = {\n",
    "    \"GCF_000008185.1\": \"NC_002967.9\",\n",
    "    \"GCF_000210715.1\": \"NC_021038.1\",\n",
    "    \"GCF_000238215.1\": \"NC_016610.1\",\n",
    "    \"GCF_003019295.1\": \"NZ_CP028101.1\"\n",
    "}\n",
    "\n",
    "dic2 = {\n",
    "    \"NC_002967.9\": \"Treponema\\ndenticola\",\n",
    "    \"NC_021038.1\": \"Fretibacterium\\nfastidiosum\",\n",
    "    \"NC_016610.1\": \"Tannerella\\nforsythia\",\n",
    "    \"NZ_CP028101.1\": \"Fusobacterium\\nnucleatum\"\n",
    "}"
   ]
  },
  {
   "cell_type": "code",
   "execution_count": 4,
   "id": "34913b41-cde3-46a0-9625-9e16933c3d28",
   "metadata": {},
   "outputs": [],
   "source": [
    "assemblers = ['carpedeam2.configSafe', 'carpedeam2.configUnsafe', 'megahit.config0', 'penguin.config0', 'spades.config0'] \n"
   ]
  },
  {
   "cell_type": "code",
   "execution_count": 5,
   "id": "ef7485fe-c21d-42a7-8a82-d374d6cdeead",
   "metadata": {},
   "outputs": [],
   "source": [
    "def map_assembler(cell):\n",
    "    if \"carpedeam\" in cell:\n",
    "        return \"CarpeDeam\"\n",
    "    elif \"penguin\" in cell:\n",
    "        return \"PenguiN\"\n",
    "    elif \"megahit\" in cell:\n",
    "        return \"MEGAHIT\"\n",
    "    elif \"spades\" in cell:\n",
    "        return \"metaSPAdes\"\n",
    "    else:\n",
    "        return cell  # Return the cell as is if none of the conditions are met"
   ]
  },
  {
   "cell_type": "code",
   "execution_count": 6,
   "id": "556eb31f-0698-41f2-8e17-2f9af44f960d",
   "metadata": {},
   "outputs": [],
   "source": [
    "def adjust_assemblerconfig(row):\n",
    "    if row[\"assembler_clean\"] == \"CarpeDeam\":\n",
    "        if \"carpedeamSafe\" in row[\"assemblerconfig\"]:\n",
    "            return \"CarpeDeam\\n(safe mode)\"\n",
    "        elif \"carpedeamUnsafe\" in row[\"assemblerconfig\"]:\n",
    "            return \"CarpeDeam\\n(unsafe mode)\"\n",
    "        else:\n",
    "            return \"CarpeDeam\"\n",
    "    else:\n",
    "        return row[\"assembler_clean\"]"
   ]
  },
  {
   "cell_type": "code",
   "execution_count": 7,
   "id": "3b83574a-2732-4a40-bfd2-27e7889128ef",
   "metadata": {},
   "outputs": [],
   "source": [
    "dic_sort_asm = {\"CarpeDeam (safe mode)\" : 0, \"CarpeDeam (unsafe mode)\" : 1, \"PenguiN\" : 2, \"MEGAHIT\" : 3, \"metaSPAdes\" : 4}"
   ]
  },
  {
   "cell_type": "code",
   "execution_count": 8,
   "id": "6843dc29-52a7-49b9-8b36-9eea5921232b",
   "metadata": {},
   "outputs": [],
   "source": [
    "def sort_key(x, dic_sort_asm):\n",
    "    return x[dic_sort_asm]"
   ]
  },
  {
   "cell_type": "code",
   "execution_count": 39,
   "id": "c442a609-3a36-4a97-a23e-4b5ff85464a3",
   "metadata": {},
   "outputs": [],
   "source": [
    "def plotGF(path, nameDate):\n",
    "    df = pd.read_csv(path, delim_whitespace=True, header=None)\n",
    "    df = df[df[0].apply(lambda x: any(assembler in x for assembler in assemblers))]\n",
    "    df.columns=[\"file\", \"Species\", \"GenomeFraction\"]\n",
    "    \n",
    "    for assembler in assemblers:\n",
    "        for gcf in dic1.keys():\n",
    "            species = gcf\n",
    "            # Check if the combination of assembler and species exists in the DataFrame\n",
    "            if not ((df[\"file\"] == assembler) & (df[\"Species\"] == species)).any():\n",
    "                # Append a new row with missing combination\n",
    "                new_row = pd.DataFrame([[assembler, species, 0]], columns=[\"file\", \"Species\", \"GenomeFraction\"])\n",
    "                df = pd.concat([df, new_row], ignore_index=True)\n",
    "    # Step 1: Map GCF IDs to NC/NZ strings\n",
    "    df[\"NC_NZ\"] = df[\"Species\"].map(dic1)\n",
    "    \n",
    "    # Step 2: Map NC/NZ strings to species names\n",
    "    df[\"SpeciesName\"] = df[\"NC_NZ\"].map(dic2)\n",
    "    df[\"assembler\"] = df[\"file\"].apply(lambda x: map_assembler(x))\n",
    "    df[\"Assembler\"] = df.apply(adjust_assemblerconfig, axis=1)\n",
    "\n",
    "    # Define a custom palette for consistent color coding\n",
    "    custom_palette = ['#a1c9f4', '#b9f2f0', '#8de5a1', '#ffb482', '#fab0e4']\n",
    "    \n",
    "    # Set custom order for assemblers\n",
    "    custom_order = [\n",
    "        'CarpeDeam (safe mode)',\n",
    "        'CarpeDeam (unsafe mode)',\n",
    "        'PenguiN',\n",
    "        'MEGAHIT',\n",
    "        'metaSPAdes'\n",
    "    ]\n",
    "    hue_order = sorted(df['Assembler'].unique(), key=lambda x: custom_order.index(x))\n",
    "\n",
    "    pal = sns.color_palette()\n",
    "    plt.figure(figsize=(6, 6))\n",
    "    # Ordering the species names alphabetically\n",
    "    species_order = sorted(df['SpeciesName'].unique())\n",
    "    \n",
    "    sns.barplot(data=df, x='SpeciesName', y='GenomeFraction', hue='Assembler', hue_order=hue_order,palette=['#a1c9f4', '#b9f2f0', '#8de5a1', '#ffb482', '#fab0e4'], order=species_order)\n",
    "    plt.xticks(rotation=45, ha=\"right\")\n",
    "    plt.title(f\"Dataset: {nameDate}\")\n",
    "    plt.ylabel(\"Genome Fraction (%)\", fontsize=10)\n",
    "    plt.xlabel(\"Species Name\")\n",
    "    plt.legend(bbox_to_anchor=(0.5, -0.5), loc='upper center', ncol=3)\n",
    "    plt.tight_layout()\n",
    "    plt.savefig(f\"plots/figure7/GenomeFraction_{nameDate}.svg\", format=\"svg\", bbox_inches=\"tight\")\n",
    "    plt.show()"
   ]
  },
  {
   "cell_type": "code",
   "execution_count": null,
   "id": "cd20e0f2-3a65-4c92-a4a0-87dedf720dd9",
   "metadata": {},
   "outputs": [],
   "source": [
    "plotGF(GDN001, \"GDN001\")"
   ]
  },
  {
   "cell_type": "code",
   "execution_count": null,
   "id": "6db0d68d-2d7f-4344-a734-876337b9a0b9",
   "metadata": {},
   "outputs": [],
   "source": [
    "plotGF(EMN001, \"EMN001\")"
   ]
  }
 ],
 "metadata": {
  "kernelspec": {
   "display_name": "Python 3 (ipykernel)",
   "language": "python",
   "name": "python3"
  },
  "language_info": {
   "codemirror_mode": {
    "name": "ipython",
    "version": 3
   },
   "file_extension": ".py",
   "mimetype": "text/x-python",
   "name": "python",
   "nbconvert_exporter": "python",
   "pygments_lexer": "ipython3",
   "version": "3.10.6"
  }
 },
 "nbformat": 4,
 "nbformat_minor": 5
}
