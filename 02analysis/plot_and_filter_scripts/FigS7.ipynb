{
 "cells": [
  {
   "cell_type": "code",
   "execution_count": 3,
   "id": "7ec82a16-1cd6-455e-9d87-d2611346ad9f",
   "metadata": {},
   "outputs": [],
   "source": [
    "import re\n",
    "import pandas as pd\n",
    "import time\n",
    "import numpy as np\n",
    "import csv\n",
    "import math\n",
    "import seaborn as sns\n",
    "import matplotlib.pyplot as plt"
   ]
  },
  {
   "cell_type": "code",
   "execution_count": 33,
   "id": "d3888f10-6d45-4302-a239-e2000222a3d0",
   "metadata": {},
   "outputs": [],
   "source": [
    "def plot_fraction_economist_style(file1, file2, number):\n",
    "    # Function to read and process the data\n",
    "    def process_data(file):\n",
    "        data = pd.read_csv(file, header=None, delim_whitespace=True, names=['Type', 'Value'])\n",
    "        df = pd.DataFrame()\n",
    "        for i in range(0, len(data), 3):\n",
    "            kmerSize = data.iloc[i]['Value']\n",
    "            total = data.iloc[i + 1]['Value']\n",
    "            unique = data.iloc[i + 2]['Value']\n",
    "            df = pd.concat([df, pd.DataFrame([{'kmerSize': kmerSize, 'total': total, 'unique': unique}])], ignore_index=True)\n",
    "        df['total'] = pd.to_numeric(df['total'])\n",
    "        df['unique'] = pd.to_numeric(df['unique'])\n",
    "        df['fraction'] = df['unique'] / df['total']\n",
    "        return df\n",
    "    \n",
    "    # Processing both files\n",
    "    df1 = process_data(file1)\n",
    "    df2 = process_data(file2)\n",
    "    \n",
    "    # Plotting\n",
    "    plt.figure(figsize=(8, 5))\n",
    "    sns.set_style(\"whitegrid\")\n",
    "    sns.set_palette(\"pastel\")\n",
    "\n",
    "    # Plotting both datasets\n",
    "    plt.bar(df1['kmerSize'], df1['fraction'], color=\"skyblue\", edgecolor='black', alpha=0.6, label=f'k-mer')\n",
    "    plt.bar(df2['kmerSize'], df2['fraction'], color=\"orange\", edgecolor='black', alpha=0.6, label=f'ry-mer')\n",
    "\n",
    "    plt.xlabel(f\"k-mer size\", fontsize=16)\n",
    "    plt.ylabel('Fraction (unique/total)', fontsize=16)\n",
    "    plt.title(f\"Fraction of unique k-mers and RY-mers in {number} genomes\", fontsize=16, fontweight='bold')\n",
    "    plt.xticks(np.arange(8, 42, 2))\n",
    "    plt.xticks(rotation=0)\n",
    "    plt.legend(fontsize=14)\n",
    "    \n",
    "    plt.tight_layout()\n",
    "    plt.savefig(f'kmer_uniqueness/kmer_vs_rymer_{number}.png', dpi=300, bbox_inches=\"tight\")\n",
    "    plt.show()"
   ]
  },
  {
   "cell_type": "code",
   "execution_count": null,
   "id": "a8b5d6dc-efe4-4609-9413-e15e97ea4475",
   "metadata": {},
   "outputs": [],
   "source": [
    "plot_fraction_economist_style('/home/projects/metagnm_asm/paper/countKmers/kmercounts/bac1k/kmer_out.txt',\\\n",
    "                              '/home/projects/metagnm_asm/paper/countKmers/kmercounts/bac1k/rymer_out.txt', \"1000\")"
   ]
  }
 ],
 "metadata": {
  "kernelspec": {
   "display_name": "Python 3 (ipykernel)",
   "language": "python",
   "name": "python3"
  },
  "language_info": {
   "codemirror_mode": {
    "name": "ipython",
    "version": 3
   },
   "file_extension": ".py",
   "mimetype": "text/x-python",
   "name": "python",
   "nbconvert_exporter": "python",
   "pygments_lexer": "ipython3",
   "version": "3.10.6"
  }
 },
 "nbformat": 4,
 "nbformat_minor": 5
}
