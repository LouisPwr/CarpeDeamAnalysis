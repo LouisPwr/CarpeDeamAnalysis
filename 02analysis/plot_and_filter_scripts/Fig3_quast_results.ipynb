{
 "cells": [
  {
   "cell_type": "code",
   "execution_count": 1,
   "id": "171ef07e-b188-4395-b793-941cc695b21a",
   "metadata": {},
   "outputs": [],
   "source": [
    "import pandas as pd\n",
    "import seaborn as sns\n",
    "import matplotlib.pyplot as plt\n",
    "import glob\n",
    "import hashlib\n",
    "import gzip\n",
    "import numpy as np\n",
    "import re"
   ]
  },
  {
   "cell_type": "code",
   "execution_count": 2,
   "id": "6b89324f-3932-44e2-b11c-92b96f6d5ae9",
   "metadata": {},
   "outputs": [],
   "source": [
    "def get_md5sum(x):\n",
    "    return hashlib.md5(x.encode(\"utf-8\")).hexdigest()[:10]"
   ]
  },
  {
   "cell_type": "code",
   "execution_count": 3,
   "id": "d675b3a1-fa79-4216-b545-3970bde2f53f",
   "metadata": {},
   "outputs": [],
   "source": [
    "dataset = \"Horse\"\n",
    "bone_path=f\"/data/ancient{dataset}/results/assembly-evaluation-quast/*report.tsv.gz\"\n",
    "dataset = \"Gut\"\n",
    "gut_path=f\"/data/ancient{dataset}/results/assembly-evaluation-quast/*report.tsv.gz\"\n",
    "dataset = \"Calc\"\n",
    "calc_path=f\"/data/ancient{dataset}/results/assembly-evaluation-quast/*report.tsv.gz\""
   ]
  },
  {
   "cell_type": "code",
   "execution_count": null,
   "id": "101e04b4-d818-44e7-a71f-ee9d101178f8",
   "metadata": {},
   "outputs": [],
   "source": [
    "labels = [\"gut_sum_high_c3\", \"gut_sum_high_c5\", \"gut_sum_high_c10\", \\\n",
    " \"calc_2095_high_c3\", \"calc_2095_high_c5\", \"calc_2095_high_c10\", \\\n",
    " \"horse_sum_high_c3\", \"horse_sum_high_c5\", \"horse_sum_high_c10\", ]\n",
    "\n",
    "labels_clean = [\n",
    "    \"Gut:\\nHigh Damage; Cov. 3X\",\n",
    "    \"Gut:\\nHigh Damage; Cov. 5X\",\n",
    "    \"Gut:\\nHigh Damage; Cov. 10X\",\n",
    "    \"Calculus:\\nHigh Damage; Cov. 3X\",\n",
    "    \"Calculus:\\nHigh Damage; Cov. 5X\",\n",
    "    \"Calculus:\\nHigh Damage; Cov. 10X\",\n",
    "    \"Bone:\\nHigh Damage; Cov. 3X\",\n",
    "    \"Bone:\\nHigh Damage; Cov. 5X\",\n",
    "    \"Bone:\\nHigh Damage; Cov. 10X\",\n",
    "]\n",
    "\n",
    "labels_dict = {key: get_md5sum(key) for key in labels}\n",
    "labels_dict_inv = {value: key for key, value in labels_dict.items()}\n",
    "print(labels_dict_inv)\n",
    "\n",
    "labels_dict_clean = {labels[i] : labels_clean[i] for i in range(len(labels))}"
   ]
  },
  {
   "cell_type": "code",
   "execution_count": 5,
   "id": "c4ec50e6-dfa2-47dc-878a-ff85dca87944",
   "metadata": {},
   "outputs": [],
   "source": [
    "def map_assembler(cell):\n",
    "    if \"carpedeam\" in cell:\n",
    "        return \"CarpeDeam\"\n",
    "    elif \"penguin\" in cell:\n",
    "        return \"PenguiN\"\n",
    "    elif \"megahit\" in cell:\n",
    "        return \"MEGAHIT\"\n",
    "    elif \"spades\" in cell:\n",
    "        return \"metaSPAdes\"\n",
    "    else:\n",
    "        return cell  # Return the cell as is if none of the conditions are met"
   ]
  },
  {
   "cell_type": "code",
   "execution_count": 6,
   "id": "6452db3d-a8b1-4ba4-a402-5c34ff80c2af",
   "metadata": {},
   "outputs": [],
   "source": [
    "def adjust_assemblerconfig(row):\n",
    "    if row[\"assembler_clean\"] == \"CarpeDeam\":\n",
    "        if \"carpedeamSafe\" in row[\"assemblerconfig\"]:\n",
    "            return \"CarpeDeam\\n(safe mode)\"\n",
    "        elif \"carpedeamUnsafe\" in row[\"assemblerconfig\"]:\n",
    "            return \"CarpeDeam\\n(unsafe mode)\"\n",
    "        else:\n",
    "            return \"CarpeDeam\"\n",
    "    else:\n",
    "        return row[\"assembler_clean\"]"
   ]
  },
  {
   "cell_type": "code",
   "execution_count": 7,
   "id": "d65d99c6-f175-48a4-8142-a22b8c7d5d11",
   "metadata": {},
   "outputs": [],
   "source": [
    "def curate_df(path_tsv):\n",
    "    files = glob.glob(path_tsv)\n",
    "    dfs = []\n",
    "    for file in files:\n",
    "        df = pd.read_csv(file, compression='gzip', sep='\\t')\n",
    "        dfs.append(df)\n",
    "    big_df = pd.concat(dfs, ignore_index=True)\n",
    "    big_df[\"assemblerconfig\"] = big_df[\"assembler\"] + \" \" + big_df[\"config\"]\n",
    "    big_df[\"assembler_clean\"] = big_df[\"assembler\"].apply(map_assembler)\n",
    "    big_df[\"assembler_final\"] = big_df.apply(adjust_assemblerconfig, axis=1)\n",
    "    big_df[\"label\"] = big_df[\"label\"].astype(str)\n",
    "    big_df[\"label_human\"] = big_df[\"label\"].map(labels_dict_inv)\n",
    "    big_df[\"label_clean\"] = big_df[\"label_human\"].replace(labels_dict_clean)\n",
    "    big_df[\"dataset_clean\"] = big_df[\"label_clean\"].str.split(\":\").str[0]\n",
    "    big_df[\"mis_per_contig\"] = big_df[\"num_misassemblies\"]/big_df[\"num_contigs_ge_0_bp\"]\n",
    "    big_df[\"mis_per_aln_base\"] = big_df[\"num_misassemblies\"]/big_df[\"total_aligned_length\"]\n",
    "    return big_df"
   ]
  },
  {
   "cell_type": "code",
   "execution_count": null,
   "id": "68becd34-74c7-4363-9e34-57e0bf7e91f7",
   "metadata": {},
   "outputs": [],
   "source": [
    "bone = curate_df(bone_path)\n",
    "calc = curate_df(calc_path)\n",
    "gut = curate_df(gut_path)\n",
    "print(gut)\n",
    "dfs = [bone, calc, gut]\n",
    "big_df = pd.concat(dfs, ignore_index=True)"
   ]
  },
  {
   "cell_type": "code",
   "execution_count": 9,
   "id": "acf83b49-4e0a-4abd-a198-5475ac4974ec",
   "metadata": {},
   "outputs": [],
   "source": [
    "main=['carpedeam2 configSafe', 'carpedeam2 configUnsafe', 'megahit config0', 'penguin config0', 'spades config0'] \n",
    "main_df = big_df[big_df[\"assemblerconfig\"].isin(main)]"
   ]
  },
  {
   "cell_type": "code",
   "execution_count": null,
   "id": "d743c245-ea74-4e8e-9fe2-5211bc2d02cc",
   "metadata": {},
   "outputs": [],
   "source": [
    "pal = sns.color_palette(\"pastel\")\n",
    "print(pal.as_hex())\n",
    "pal"
   ]
  },
  {
   "cell_type": "code",
   "execution_count": 13,
   "id": "f78e895d-b760-432c-adae-de94c2b458af",
   "metadata": {},
   "outputs": [],
   "source": [
    "def plot_metrics_half(df, metrics, title, rows, start_row, num):\n",
    "    fig_width = 11  # Adjust width if necessary\n",
    "    fig_height = 6   # Adjust height for half the number of rows\n",
    "    fig, axs = plt.subplots(rows, len(metrics), figsize=(fig_width, fig_height))\n",
    "    \n",
    "    suffix_order = [\n",
    "        'High Damage; Cov. 3X',\n",
    "        'High Damage; Cov. 5X',\n",
    "        'High Damage; Cov. 10X',]\n",
    "    \n",
    "    damage_rename = {\n",
    "        'High Damage; Cov. 3X' : 'Moderate Damage\\nCov. 3X',\n",
    "        'High Damage; Cov. 5X' : 'Moderate Damage\\nCov. 5X',\n",
    "        'High Damage; Cov. 10X' : 'Moderate Damage\\nCov. 10X',\n",
    "    }\n",
    "    \n",
    "    custom_palette = ['#a1c9f4', '#b9f2f0', '#8de5a1', '#ffb482', '#fab0e4']\n",
    "\n",
    "    custom_order = ['C', 'P', 'M', 'm']\n",
    "    for i, metric in enumerate(metrics):\n",
    "        for j, suffix in enumerate(suffix_order[start_row:start_row+rows]):\n",
    "            metric_dict = {\"largest_alignment\": \"Largest\\nAlignment\", \"genome_fraction_perc\": \"Genome\\nFraction (%)\", \\\n",
    "                       \"mis_per_contig\": \"# Misassemblies\\nper Contig\", \"mis_per_aln_base\" : \"Misassemblies\\nper aligned bp\", \\\n",
    "                          \"na50\" : \"NA50\"}\n",
    "            metric_clean = metric_dict[metric]\n",
    "            ax = axs[j, i] if rows > 1 else axs[i]  # Adjust based on the number of rows\n",
    "            subset = df[df['label_clean'].str.contains(suffix)]\n",
    "            if subset.empty:\n",
    "                continue\n",
    "            hue_order = sorted(subset['assembler_final'].unique(), key=lambda x: custom_order.index(x[0]))\n",
    "            \n",
    "            sns.barplot(data=subset, x='dataset_clean', y=metric, hue='assembler_final', hue_order=hue_order, palette=custom_palette, ax=ax)\n",
    "            \n",
    "            if metric == \"mis_per_aln_base\":\n",
    "                max_value = subset[metric].max()\n",
    "                min_value = subset[metric].min()\n",
    "                tick_values = np.arange(0, max_value, 2e-5)\n",
    "                tick_labels = [f'{int(x / 1e-5)}e-5' for x in tick_values]\n",
    "                ax.set_yticks(tick_values)\n",
    "                ax.set_yticklabels(tick_labels)\n",
    "                \n",
    "            title_name = damage_rename[suffix]\n",
    "            \n",
    "            ax.set_title(title_name, fontsize=10)\n",
    "            ax.set_xlabel('')\n",
    "            ax.set_ylabel(metric_clean, fontsize=10)\n",
    "            ax.tick_params(axis='x', rotation=0)\n",
    "            ax.get_legend().set_visible(False)\n",
    "    \n",
    "    if True:\n",
    "        # Place a single legend outside the right side of the last subplot\n",
    "        handles, labels = ax.get_legend_handles_labels()\n",
    "        fig.legend(handles, labels, loc='upper center', bbox_to_anchor=(0.5, 0.02), fancybox=True, shadow=True, ncol=5)\n",
    "\n",
    "    plt.tight_layout()\n",
    "    plt.savefig(f'plots/figure3/benchmark_multipanel_{title}_{num}.svg', format=\"svg\", bbox_inches=\"tight\")\n",
    "    plt.show()"
   ]
  },
  {
   "cell_type": "code",
   "execution_count": null,
   "id": "0c189db2-20ec-446b-99fd-bf238b5fafbf",
   "metadata": {},
   "outputs": [],
   "source": []
  },
  {
   "cell_type": "code",
   "execution_count": null,
   "id": "e5773523-cd10-44e1-8a23-75557116e4e6",
   "metadata": {},
   "outputs": [],
   "source": [
    "# Example usage\n",
    "metrics = ['na50', 'largest_alignment', 'genome_fraction_perc', 'mis_per_contig']\n",
    "plot_metrics_half(main_df, metrics, \"main\", 3, 0, '1')  # For the first three rows"
   ]
  }
 ],
 "metadata": {
  "kernelspec": {
   "display_name": "Python 3 (ipykernel)",
   "language": "python",
   "name": "python3"
  },
  "language_info": {
   "codemirror_mode": {
    "name": "ipython",
    "version": 3
   },
   "file_extension": ".py",
   "mimetype": "text/x-python",
   "name": "python",
   "nbconvert_exporter": "python",
   "pygments_lexer": "ipython3",
   "version": "3.10.6"
  }
 },
 "nbformat": 4,
 "nbformat_minor": 5
}
