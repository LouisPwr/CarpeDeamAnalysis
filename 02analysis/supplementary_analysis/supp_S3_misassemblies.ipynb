{
 "cells": [
  {
   "cell_type": "code",
   "execution_count": null,
   "id": "cd402035-d99f-4f4b-8e23-946fc9508e25",
   "metadata": {},
   "outputs": [],
   "source": [
    "import pandas as pd\n",
    "import glob\n",
    "import os\n",
    "import hashlib\n",
    "import pandas as pd\n",
    "import matplotlib.pyplot as plt\n",
    "import seaborn as sns\n",
    "import numpy as np\n",
    "import pandas as pd\n",
    "import matplotlib.ticker as ticker\n"
   ]
  },
  {
   "cell_type": "code",
   "execution_count": null,
   "id": "7d935c0b-9f3b-4b9e-9432-1bb479c9c2a6",
   "metadata": {},
   "outputs": [],
   "source": [
    "def get_md5sum(x):\n",
    "    return hashlib.md5(x.encode(\"utf-8\")).hexdigest()[:10]"
   ]
  },
  {
   "cell_type": "code",
   "execution_count": null,
   "id": "ed15e6c6-b094-4207-a89f-e085aa2df17c",
   "metadata": {},
   "outputs": [],
   "source": [
    "def map_assembler(cell):\n",
    "    if \"carpedeam\" in cell:\n",
    "        return \"CarpeDeam\"\n",
    "    elif \"penguin\" in cell:\n",
    "        return \"PenguiN\"\n",
    "    elif \"megahit\" in cell:\n",
    "        return \"MEGAHIT\"\n",
    "    elif \"spades\" in cell:\n",
    "        return \"metaSPAdes\"\n",
    "    else:\n",
    "        return cell  # Return the cell as is if none of the conditions are met\n",
    "\n",
    "def adjust_assemblerconfig(row):\n",
    "    if row[\"assembler\"] == \"CarpeDeam\":\n",
    "        if \"Safe\" in row[\"file\"]:\n",
    "            return \"CarpeDeam (safe mode)\"\n",
    "        elif \"Unsafe\" in row[\"file\"]:\n",
    "            return \"CarpeDeam (unsafe mode)\"\n",
    "        else:\n",
    "            return \"CarpeDeam\\n(safe mode)\"\n",
    "    else:\n",
    "        return row[\"assembler\"]"
   ]
  },
  {
   "cell_type": "code",
   "execution_count": null,
   "id": "90a49169-1d84-432c-8c6b-6b8dbc5eb0ce",
   "metadata": {},
   "outputs": [],
   "source": [
    "def map_type(cell):\n",
    "    if \"correct\" in cell:\n",
    "        return \"correct assemblies\"\n",
    "    elif \"error\" in cell:\n",
    "        return \"misassemblies\"\n",
    "    else:\n",
    "        return \"none\""
   ]
  },
  {
   "cell_type": "code",
   "execution_count": null,
   "id": "03581efc-20ea-41a4-9d11-c7a4f6b2a3e1",
   "metadata": {},
   "outputs": [],
   "source": [
    "def map_extension(cell):\n",
    "    if \"ext\" in cell:\n",
    "        return \"selected_candidates\"\n",
    "    elif \"all\" in cell:\n",
    "        return \"candidates\"\n",
    "    else:\n",
    "        return \"none\""
   ]
  },
  {
   "cell_type": "code",
   "execution_count": null,
   "id": "a4686693-d2bd-4d20-87c3-542ade52d476",
   "metadata": {},
   "outputs": [],
   "source": [
    "def map_dataset(mapping_dict, cell):\n",
    "    for key, value in mapping_dict.items():\n",
    "        if key in cell:\n",
    "            return value\n",
    "    return None  # or a default value or raise an exception if a key substring is not found in cell"
   ]
  },
  {
   "cell_type": "code",
   "execution_count": null,
   "id": "1fe1be59-685e-486f-9955-90aca9e2f1c5",
   "metadata": {},
   "outputs": [],
   "source": [
    "labels = [\"synth_EMN001\", \"synth_GDN001\"]\n",
    "\n",
    "labels_clean = [\n",
    "\"EMN001\", \n",
    "\"GDN001\"\n",
    "]\n",
    "\n",
    "labels_dict = {key: get_md5sum(key) for key in labels}\n",
    "labels_dict_inv = {value: key for key, value in labels_dict.items()}\n",
    "print(labels_dict_inv)\n",
    "\n",
    "labels_dict_clean = {labels[i] : labels_clean[i] for i in range(len(labels))}\n"
   ]
  },
  {
   "cell_type": "code",
   "execution_count": null,
   "id": "f8b59a1e-d128-4255-989b-8362f17711eb",
   "metadata": {},
   "outputs": [],
   "source": [
    "def curate_df(path_tsv):\n",
    "\n",
    "    files = glob.glob(path_tsv)\n",
    "    dfs = []\n",
    "\n",
    "    times = []\n",
    "    for file in files:\n",
    "        basename = os.path.basename(file)\n",
    "        times.append(basename.split(\"_\")[2].split(\".\")[0])\n",
    "    times = sorted(list(set(times)))\n",
    "    print(times)\n",
    "        \n",
    "    for file in files:\n",
    "        if \"ext\" in file:\n",
    "            basename = os.path.basename(file)\n",
    "            df = pd.read_csv(file, sep='\\t', header=None)\n",
    "            df[\"assembler\"] = \"CarpeDeam\"\n",
    "    \n",
    "            iter = times.index(basename.split(\"_\")[2].split(\".\")[0])\n",
    "            df[\"iteration\"] = iter+1\n",
    "            df[\"extension_type\"] = map_extension(file)\n",
    "            df = df[df[\"extension_type\"] == \"selected_candidates\"]\n",
    "            dfs.append(df)\n",
    "    \n",
    "    main_df = pd.concat(dfs, ignore_index=True)\n",
    "    main_df.sort_values(by=[\"iteration\"], inplace=True)\n",
    "        \n",
    "    return main_df"
   ]
  },
  {
   "cell_type": "code",
   "execution_count": null,
   "id": "be63d72e-16eb-4477-bc33-d6e703ebe9b8",
   "metadata": {},
   "outputs": [],
   "source": [
    "def simplify_filenames(df, filename_column, index=3):\n",
    "    \"\"\" Simplify filenames in the DataFrame to a specific format ('configXXXX'). \"\"\"\n",
    "    df['simplified_filename'] = df[filename_column].apply(lambda x: x.split('.')[index])\n",
    "    return df\n",
    "\n",
    "def plot_data(df, x, y, title, ylabel, color):\n",
    "    \"\"\" General function for creating bar plots. \"\"\"\n",
    "    plt.figure(figsize=(10, 5))\n",
    "    plt.bar(df[x], df[y], color=color)\n",
    "    plt.xlabel('Configuration')\n",
    "    plt.ylabel(ylabel)\n",
    "    plt.title(title)\n",
    "    plt.xticks(rotation=45)\n",
    "    plt.tight_layout()\n",
    "    plt.show()\n"
   ]
  },
  {
   "cell_type": "markdown",
   "id": "bf14ebf6-c9f7-4cc7-b3c1-6295856734b9",
   "metadata": {},
   "source": [
    "## Translocations Misassembly Analysis"
   ]
  },
  {
   "cell_type": "code",
   "execution_count": null,
   "id": "4eaade7d-382c-4a4f-bbd4-7945a6711a07",
   "metadata": {},
   "outputs": [],
   "source": [
    "translocations=\"assembly-evaluation-quast/combined_reference/contigs_reports/interspecies_translocations_by_refs_CarpeDeam.info\""
   ]
  },
  {
   "cell_type": "code",
   "execution_count": null,
   "id": "d1e813f2-585d-4521-8886-f122f6f82cbc",
   "metadata": {},
   "outputs": [],
   "source": [
    "def curate_misasm(path):\n",
    "    # Read the file, using whitespace as the delimiter\n",
    "    data = pd.read_csv(path, delimiter=r'\\s+', skiprows=1, engine='python')\n",
    "    \n",
    "    # Find the row that contains \"References:\"\n",
    "    end_index = data.index[data.iloc[:, 0].str.contains('References:', na=False)].tolist()\n",
    "    \n",
    "    # If we found the \"References:\" row, we use its index to slice the DataFrame\n",
    "    if end_index:\n",
    "        data = data.iloc[:end_index[0]]\n",
    "    \n",
    "    \n",
    "    # Set the column names to the 'References' values\n",
    "    data.columns = ['References'] + data['References'].tolist()\n",
    "    \n",
    "    # Display the resulting matrix\n",
    "    return data\n"
   ]
  },
  {
   "cell_type": "code",
   "execution_count": null,
   "id": "ede30df1-4bb2-439e-84e9-a2c4ec6e482a",
   "metadata": {},
   "outputs": [],
   "source": [
    "def heatmap_misasm(df_orig, title):\n",
    "    df = df_orig.copy()\n",
    "    df.set_index(\"References\", inplace=True)\n",
    "    \n",
    "    # Convert DataFrame to numeric, handle non-numeric entries by converting them to NaN then filling with 0\n",
    "    df_numeric = df.apply(pd.to_numeric, errors='coerce').fillna(0)\n",
    "    \n",
    "    # Create a mask for the diagonal (True for diagonal, False elsewhere)\n",
    "    mask = np.zeros_like(df_numeric, dtype=bool)\n",
    "    np.fill_diagonal(mask, True)\n",
    "    \n",
    "    # Zero out the diagonal and lower triangle to focus on upper half\n",
    "    for i in range(len(df_numeric)):\n",
    "        for j in range(i + 1):\n",
    "            df_numeric.iloc[i, j] = 0\n",
    "    \n",
    "    # Calculate the sum of the upper half of the diagonal\n",
    "    total_misassemblies = df_numeric.values[np.triu_indices_from(df_numeric.values, k=1)].sum()\n",
    "    \n",
    "    # Create a custom colormap\n",
    "    from matplotlib.colors import LinearSegmentedColormap\n",
    "\n",
    "    colors = [(0.9, 0.9, 0.9)] + sns.color_palette(\"dark:salmon_r\", as_cmap=True)(np.linspace(0, 1, 256)).tolist()\n",
    "    custom_cmap = LinearSegmentedColormap.from_list(\"custom_cmap\", colors, N=256)\n",
    "\n",
    "    # Plotting the heatmap with a mask for the diagonal\n",
    "    plt.figure(figsize=(20, 18))\n",
    "    ax = sns.heatmap(df_numeric, mask=mask, annot=False, cmap=custom_cmap, cbar=True,\n",
    "                     linewidths=.5, linecolor='grey')\n",
    "    ax.set_title(f'Total Number of Interspecies Misassemblies: {int(total_misassemblies)}')\n",
    "    ax.set_xlabel('References')\n",
    "    ax.set_ylabel('References')\n",
    "\n",
    "    # Set x and y ticks\n",
    "    ax.set_xticks(np.arange(len(df_numeric.columns)))\n",
    "    ax.set_yticks(np.arange(len(df_numeric.index)))\n",
    "\n",
    "    # Label them with the respective list entries\n",
    "    ax.set_xticklabels(df_numeric.columns, rotation=90, fontsize=7)\n",
    "    ax.set_yticklabels(df_numeric.index, fontsize=7)\n",
    "\n",
    "    # Ensure every tick label is shown\n",
    "    ax.xaxis.set_major_locator(ticker.MultipleLocator(1))\n",
    "    ax.yaxis.set_major_locator(ticker.MultipleLocator(1))\n",
    "\n",
    "    # Save the heatmap\n",
    "    #plt.savefig(f'misasm_heatmaps/heatmap_misasm_{title}.png', dpi=300, bbox_inches=\"tight\")\n",
    "    plt.show()\n",
    "\n",
    "    # Print pairs with non-zero misassembly values from the upper diagonal\n",
    "    nonzero_misasm = []\n",
    "    for i in range(len(df_numeric)):\n",
    "        for j in range(i + 1, len(df_numeric.columns)):\n",
    "            value = df_numeric.iloc[i, j]\n",
    "            if value > 0:\n",
    "                to_add = [df_numeric.index[i], df_numeric.index[j], int(value)]\n",
    "                nonzero_misasm.append(to_add)\n",
    "    # Create a DataFrame with explicit column names\n",
    "    nonzero_mis_df = pd.DataFrame(nonzero_misasm, columns=['Species1', 'Species2', '# Misassemblies'])\n",
    "    # Sort the DataFrame by '# Misassemblies' in descending order\n",
    "    nonzero_mis_df.sort_values(by='# Misassemblies', ascending=False, inplace=True)\n",
    "    nonzero_mis_df.reset_index(inplace=True, drop=True)\n",
    "    return nonzero_mis_df\n"
   ]
  },
  {
   "cell_type": "code",
   "execution_count": null,
   "id": "3b7a5402-6563-4670-957b-916db80d05cc",
   "metadata": {},
   "outputs": [],
   "source": [
    "data = curate_misasm(translocations)"
   ]
  },
  {
   "cell_type": "code",
   "execution_count": null,
   "id": "3357166b-bc33-4f60-88c6-616019d8a1fb",
   "metadata": {},
   "outputs": [],
   "source": [
    "misasms_info = heatmap_misasm(data, \"CarpeDeamUnsafe\")"
   ]
  },
  {
   "cell_type": "code",
   "execution_count": null,
   "id": "509c9539-78b7-4ceb-8c22-95975af1393c",
   "metadata": {},
   "outputs": [],
   "source": [
    "print(misasms_info.head(10).to_latex(index=False))"
   ]
  },
  {
   "cell_type": "markdown",
   "id": "f45d2252-a8b7-4908-9b6c-54f69ed085c1",
   "metadata": {},
   "source": [
    "## Intraspecies Miassembly Analysis\n"
   ]
  },
  {
   "cell_type": "code",
   "execution_count": null,
   "id": "4360906c-cf8b-4769-adf4-40b7e258e864",
   "metadata": {},
   "outputs": [],
   "source": [
    "def collect_metric_data(directory, metric):\n",
    "    # List to store data\n",
    "    data = []\n",
    "    \n",
    "    # Walk through the given directory\n",
    "    for subdir, dirs, files in os.walk(directory):\n",
    "        if 'report.tsv' in files:\n",
    "            file_path = os.path.join(subdir, 'report.tsv')\n",
    "            try:\n",
    "                with open(file_path, 'r') as file:\n",
    "                    for line in file:\n",
    "                        if metric in line:\n",
    "                            # Clean and extract the necessary parts\n",
    "                            misassemblies_count = line.strip().split()[-1]\n",
    "                            species_name = os.path.basename(subdir)\n",
    "                            data.append([species_name, int(misassemblies_count)])\n",
    "                            break  # No need to read further once we find the line\n",
    "            except Exception as e:\n",
    "                print(f\"Error reading {file_path}: {e}\")\n",
    "\n",
    "    # Create a DataFrame\n",
    "    df = pd.DataFrame(data, columns=['Species', metric])\n",
    "    df.sort_values(by=metric, ascending=False, inplace=True)\n",
    "    df.reset_index(inplace=True, drop=True)\n",
    "    \n",
    "    return df"
   ]
  },
  {
   "cell_type": "code",
   "execution_count": null,
   "id": "5d65b05c-25c6-4bdb-9d8d-4cfa30b2c70b",
   "metadata": {},
   "outputs": [],
   "source": [
    "def plot_metric(df, metric):\n",
    "    # Convert \"# misassemblies\" to numeric if it's not already\n",
    "    df[metric] = pd.to_numeric(df[metric], errors='coerce')\n",
    "    \n",
    "    # Sort the DataFrame by '# Misassemblies'\n",
    "    df_sorted = df.sort_values(by=metric, ascending=True)\n",
    "    \n",
    "    # Create the plot\n",
    "    plt.figure(figsize=(10, 6))\n",
    "    plt.bar(df_sorted['Species'], df_sorted[metric], color='skyblue')\n",
    "    plt.xlabel('Species')\n",
    "    plt.ylabel(f'Intraspecies {metric}')\n",
    "    plt.title(f'Intraspecies {metric} per Species')\n",
    "    plt.xticks(rotation=90, fontsize=6)  # Rotate the species names for better readability\n",
    "    plt.tight_layout()  # Adjust layout to make room for label rotation\n",
    "    plt.savefig('miasm_intraspecies/intraspecies_miasm.png', dpi=300, bbox_inches=\"tight\")\n",
    "    plt.show()\n"
   ]
  },
  {
   "cell_type": "code",
   "execution_count": null,
   "id": "e70ddd0d-4af2-4dbd-9815-6470f2b859c5",
   "metadata": {},
   "outputs": [],
   "source": [
    "def match_coverage_info(coverage_path, misassembly_df):\n",
    "    # Step 1: Read the new file into a DataFrame\n",
    "    new_df = pd.read_csv(coverage_path, delim_whitespace=True)\n",
    "    \n",
    "    # Step 2: Clean the 'Taxon' column to match the 'Species' format in df1\n",
    "    new_df['Taxon'] = new_df['Taxon'].str.replace('----', '____').str.replace(r'\\.1$', '')\n",
    "    \n",
    "    # Step 3: Merge new_df with df1\n",
    "    # Assuming 'Species' in df1 needs to match 'Taxon' in new_df\n",
    "    misassembly_df = misassembly_df.merge(new_df[['Taxon', 'Coverage']], left_on='Species', right_on='Taxon', how='left')\n",
    "    \n",
    "    # Rename 'Coverage' to be clear and drop redundant 'Taxon' column\n",
    "    misassembly_df.rename(columns={'Coverage': 'Coverage'}, inplace=True)\n",
    "    misassembly_df.drop('Taxon', axis=1, inplace=True)\n",
    "    return misassembly_df"
   ]
  },
  {
   "cell_type": "code",
   "execution_count": null,
   "id": "577d97e9-08d2-4284-82a8-5ee156dff244",
   "metadata": {},
   "outputs": [],
   "source": [
    "# Example usage\n",
    "directory_path = \"assembly-evaluation-quast/runs_per_reference\"\n",
    "genome_comp=\"genome-compositions.tsv\"\n",
    "df = collect_metric_data(directory_path, \"# misassemblies\")\n",
    "print(df)\n",
    "plot_metric(df,\"# misassemblies\")\n"
   ]
  },
  {
   "cell_type": "code",
   "execution_count": null,
   "id": "1997cde3-22e8-49ab-b0ad-f41fa3e45a5f",
   "metadata": {},
   "outputs": [],
   "source": [
    "df_cov = match_coverage_info(genome_comp, df)"
   ]
  },
  {
   "cell_type": "code",
   "execution_count": null,
   "id": "d5a6bb38-1991-4975-9562-59075eb7ebd4",
   "metadata": {},
   "outputs": [],
   "source": [
    "\n",
    "print(df_cov.head(10).to_latex(index=False))"
   ]
  }
 ],
 "metadata": {
  "kernelspec": {
   "display_name": "Python 3 (ipykernel)",
   "language": "python",
   "name": "python3"
  },
  "language_info": {
   "codemirror_mode": {
    "name": "ipython",
    "version": 3
   },
   "file_extension": ".py",
   "mimetype": "text/x-python",
   "name": "python",
   "nbconvert_exporter": "python",
   "pygments_lexer": "ipython3",
   "version": "3.8.10"
  }
 },
 "nbformat": 4,
 "nbformat_minor": 5
}
